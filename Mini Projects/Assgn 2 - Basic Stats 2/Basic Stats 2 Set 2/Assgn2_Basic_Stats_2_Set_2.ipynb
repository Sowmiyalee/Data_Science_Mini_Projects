{
  "nbformat": 4,
  "nbformat_minor": 0,
  "metadata": {
    "colab": {
      "provenance": []
    },
    "kernelspec": {
      "name": "python3",
      "display_name": "Python 3"
    },
    "language_info": {
      "name": "python"
    }
  },
  "cells": [
    {
      "cell_type": "markdown",
      "source": [
        "# **Question 1**"
      ],
      "metadata": {
        "id": "ln6IOF--tBZP"
      }
    },
    {
      "cell_type": "markdown",
      "source": [
        "1.\tThe time required for servicing transmissions is normally distributed with  = 45 minutes and  = 8 minutes. The service manager plans to have work begin on the transmission of a customer’s car 10 minutes after the car is dropped off and the customer is told that the car will be ready within 1 hour from drop-off. What is the probability that the service manager cannot meet his commitment? "
      ],
      "metadata": {
        "id": "ArEIrUhaymaP"
      }
    },
    {
      "cell_type": "code",
      "source": [
        "import pandas as pd\n",
        "import numpy as np\n",
        "import scipy.stats as stats\n",
        "\n",
        "\"\"\"the serving work will began after 10 min of drop off so 45+10 \n",
        "which will now take more than the usual time so new mew is 55 minutes \n",
        "and the porbbaility that it will take more than 1 hour to complete\"\"\"\n",
        "\n",
        "mean = 55\n",
        "std = 8\n",
        "q1 = 1- stats.norm.cdf(60, loc = mean, scale = std)\n",
        "q1"
      ],
      "metadata": {
        "colab": {
          "base_uri": "https://localhost:8080/"
        },
        "id": "H2uLryuUtGfl",
        "outputId": "a355a165-bdcb-4211-af75-af6017eb2982"
      },
      "execution_count": 2,
      "outputs": [
        {
          "output_type": "execute_result",
          "data": {
            "text/plain": [
              "0.26598552904870054"
            ]
          },
          "metadata": {},
          "execution_count": 2
        }
      ]
    },
    {
      "cell_type": "code",
      "source": [
        "print('The probability that the service manager cannot meet his commitment is', np.round(q1,4))"
      ],
      "metadata": {
        "colab": {
          "base_uri": "https://localhost:8080/"
        },
        "id": "ll6ecV22uxRg",
        "outputId": "03682c2e-5d16-4031-9182-f1d957503985"
      },
      "execution_count": 3,
      "outputs": [
        {
          "output_type": "stream",
          "name": "stdout",
          "text": [
            "The probability that the service manager cannot meet his commitment is 0.266\n"
          ]
        }
      ]
    },
    {
      "cell_type": "markdown",
      "source": [
        "# **Question 2**"
      ],
      "metadata": {
        "id": "H3mO5Igiv_sG"
      }
    },
    {
      "cell_type": "markdown",
      "source": [
        "2.\tThe current age (in years) of 400 clerical employees at an insurance claims processing center is normally distributed with mean  = 38 and Standard deviation  =6. For each statement below, please specify True/False. If false, briefly explain why.\n",
        "\n",
        "*  A.\tMore employees at the processing center are older than 44 than between 38 and 44. \n",
        "\n",
        "*   B.\tA training program for employees under the age of 30 at the center would be expected to attract about 36 employees.\n",
        "\n",
        "\n",
        "\n"
      ],
      "metadata": {
        "id": "jkN7apj4yYi5"
      }
    },
    {
      "cell_type": "code",
      "source": [
        "mean2 = 38 \n",
        "std2 = 6\n",
        "\n",
        "q2_lessthan_38 = stats.norm.cdf(38, loc = mean2, scale = std2) \n",
        "print('q2_lessthan_38=', q2_lessthan_38)\n",
        "\n",
        "q2_less_than_44 = stats.norm.cdf(44, loc = mean2, scale = std2) \n",
        "print('q2_less_than_44=', q2_less_than_44)"
      ],
      "metadata": {
        "colab": {
          "base_uri": "https://localhost:8080/"
        },
        "id": "MlnaP8rXuvi8",
        "outputId": "bdb867a1-8f8b-4be5-b6f4-f69af9c12806"
      },
      "execution_count": 4,
      "outputs": [
        {
          "output_type": "stream",
          "name": "stdout",
          "text": [
            "q2_lessthan_38= 0.5\n",
            "q2_less_than_44= 0.8413447460685429\n"
          ]
        }
      ]
    },
    {
      "cell_type": "code",
      "source": [
        "q2_betweeen_38_and_44 = q2_less_than_44 - q2_lessthan_38 \n",
        "print('q2_betweeen_38_and_44=', q2_betweeen_38_and_44)"
      ],
      "metadata": {
        "colab": {
          "base_uri": "https://localhost:8080/"
        },
        "id": "-g1Ge11dxNrx",
        "outputId": "3951f091-865e-4c85-f19d-69cd00e7e738"
      },
      "execution_count": 5,
      "outputs": [
        {
          "output_type": "stream",
          "name": "stdout",
          "text": [
            "q2_betweeen_38_and_44= 0.3413447460685429\n"
          ]
        }
      ]
    },
    {
      "cell_type": "code",
      "source": [
        "print('The probability of employee age between 38 and 44 is',np.round(q2_betweeen_38_and_44*100,2),'%')"
      ],
      "metadata": {
        "colab": {
          "base_uri": "https://localhost:8080/"
        },
        "id": "QN0H7stWutqY",
        "outputId": "5312bb84-3fe4-4268-84f9-cfaad3433016"
      },
      "execution_count": 6,
      "outputs": [
        {
          "output_type": "stream",
          "name": "stdout",
          "text": [
            "The probability of employee age between 38 and 44 is 34.13 %\n"
          ]
        }
      ]
    },
    {
      "cell_type": "code",
      "source": [
        "q2_morethan_44 = 1-stats.norm.cdf(44, loc = mean2, scale = std2) \n",
        "q2_morethan_44"
      ],
      "metadata": {
        "colab": {
          "base_uri": "https://localhost:8080/"
        },
        "id": "2y_JuGfXuqt4",
        "outputId": "f539ebb1-95ec-4db5-8567-e4b57145e354"
      },
      "execution_count": 7,
      "outputs": [
        {
          "output_type": "execute_result",
          "data": {
            "text/plain": [
              "0.15865525393145707"
            ]
          },
          "metadata": {},
          "execution_count": 7
        }
      ]
    },
    {
      "cell_type": "code",
      "source": [
        "print('The probability of employee age more than 44 is',np.round(q2_morethan_44*100,2),'%')"
      ],
      "metadata": {
        "colab": {
          "base_uri": "https://localhost:8080/"
        },
        "id": "Zi7jh-BPuU2l",
        "outputId": "96af4f37-edcf-4538-fa9b-3eec33afb3d6"
      },
      "execution_count": 8,
      "outputs": [
        {
          "output_type": "stream",
          "name": "stdout",
          "text": [
            "The probability of employee age more than 44 is 15.87 %\n"
          ]
        }
      ]
    },
    {
      "cell_type": "code",
      "source": [
        "print (' A.\tMore employees at the processing center are older than 44 than between 38 and 44 is False')"
      ],
      "metadata": {
        "colab": {
          "base_uri": "https://localhost:8080/"
        },
        "id": "3-zThvYY0OzK",
        "outputId": "1ad49f8e-c370-4ff3-fd2f-4c85a742599d"
      },
      "execution_count": 9,
      "outputs": [
        {
          "output_type": "stream",
          "name": "stdout",
          "text": [
            " A.\tMore employees at the processing center are older than 44 than between 38 and 44 is False\n"
          ]
        }
      ]
    },
    {
      "cell_type": "code",
      "source": [
        "q2b = stats.norm.cdf(30, loc = mean2, scale = std2)\n",
        "q2b"
      ],
      "metadata": {
        "colab": {
          "base_uri": "https://localhost:8080/"
        },
        "id": "lkpsfDUY0doJ",
        "outputId": "50f33bdd-a9ef-485e-ac11-0a75fb617da9"
      },
      "execution_count": 10,
      "outputs": [
        {
          "output_type": "execute_result",
          "data": {
            "text/plain": [
              "0.09121121972586788"
            ]
          },
          "metadata": {},
          "execution_count": 10
        }
      ]
    },
    {
      "cell_type": "code",
      "source": [
        "prob_under_age_30 = q2b*100\n",
        "prob_under_age_30"
      ],
      "metadata": {
        "colab": {
          "base_uri": "https://localhost:8080/"
        },
        "id": "RM0lHFG54GfC",
        "outputId": "70e9fc4f-1e7b-4576-e3af-75716cc5679a"
      },
      "execution_count": 11,
      "outputs": [
        {
          "output_type": "execute_result",
          "data": {
            "text/plain": [
              "9.121121972586788"
            ]
          },
          "metadata": {},
          "execution_count": 11
        }
      ]
    },
    {
      "cell_type": "code",
      "source": [
        "print('The probability of employee age under 30 is',np.round(prob_under_age_30,2),'%')"
      ],
      "metadata": {
        "colab": {
          "base_uri": "https://localhost:8080/"
        },
        "id": "XbENygFt4YYG",
        "outputId": "a86a5ea6-f50a-435a-f4d3-4f10e55c995d"
      },
      "execution_count": 12,
      "outputs": [
        {
          "output_type": "stream",
          "name": "stdout",
          "text": [
            "The probability of employee age under 30 is 9.12 %\n"
          ]
        }
      ]
    },
    {
      "cell_type": "code",
      "source": [
        "print('A training program for employees under the age of 30 at the center would be expected to attract about',np.round((q2b*400),0),'employees')  #400 is total population"
      ],
      "metadata": {
        "colab": {
          "base_uri": "https://localhost:8080/"
        },
        "id": "NGGwtf0a0w50",
        "outputId": "787fe11b-ad96-4a49-a7b1-c7b5bf2b2a5a"
      },
      "execution_count": 13,
      "outputs": [
        {
          "output_type": "stream",
          "name": "stdout",
          "text": [
            "A training program for employees under the age of 30 at the center would be expected to attract about 36.0 employees\n"
          ]
        }
      ]
    },
    {
      "cell_type": "code",
      "source": [
        "# or we can also write it as\n",
        "\n",
        "print('A training program for employees under the age of 30 at the center would be expected to attract about',np.round((q2b*400),0),'employees')  #400 is total population"
      ],
      "metadata": {
        "colab": {
          "base_uri": "https://localhost:8080/"
        },
        "id": "wNxzf-Ud4pP5",
        "outputId": "61476169-8e33-42e8-9017-930a260a5b3a"
      },
      "execution_count": 14,
      "outputs": [
        {
          "output_type": "stream",
          "name": "stdout",
          "text": [
            "A training program for employees under the age of 30 at the center would be expected to attract about 36.0 employees\n"
          ]
        }
      ]
    },
    {
      "cell_type": "markdown",
      "source": [
        "# **Question 4**"
      ],
      "metadata": {
        "id": "Vq-Jzp1W23wU"
      }
    },
    {
      "cell_type": "markdown",
      "source": [
        "4.\tLet X ~ N(100, 202). Find two values, a and b, symmetric about the mean, such that the probability of the random variable taking a value between them is 0.99. "
      ],
      "metadata": {
        "id": "uRCijEX_27h2"
      }
    },
    {
      "cell_type": "code",
      "source": [
        "print(\"\"\"The two values of a and b, symmetric about the mean, are such that the probability of the random variable taking a value between them is 0.99:\"\"\",\n",
        "      np.round(stats.norm.interval(0.99, loc = 100, scale = 20),1)) "
      ],
      "metadata": {
        "colab": {
          "base_uri": "https://localhost:8080/"
        },
        "id": "70JBMGsi1hE2",
        "outputId": "f0f019f0-ead5-4ec5-fdb0-f451a1592923"
      },
      "execution_count": 15,
      "outputs": [
        {
          "output_type": "stream",
          "name": "stdout",
          "text": [
            "The two values of a and b, symmetric about the mean, are such that the probability of the random variable taking a value between them is 0.99: [ 48.5 151.5]\n"
          ]
        }
      ]
    },
    {
      "cell_type": "markdown",
      "source": [
        "# **Question 5**"
      ],
      "metadata": {
        "id": "c0AIk5H0Vi4v"
      }
    },
    {
      "cell_type": "markdown",
      "source": [
        "5.\tConsider a company that has two different divisions. The annual profits from the two divisions are independent and have distributions Profit1 ~ N(5, 32) and Profit2 ~ N(7, 42) respectively. Both the profits are in Million Dollar. Answer the following questions about the total profit of the company in Rupees. Assume that $1 = Rs. 45"
      ],
      "metadata": {
        "id": "2K9acjp0VnP9"
      }
    },
    {
      "cell_type": "markdown",
      "source": [
        "A.\tSpecify a Rupee range (centered on the mean) such that it contains 95% probability for the annual profit of the company."
      ],
      "metadata": {
        "id": "_wxNF_TdWCqw"
      }
    },
    {
      "cell_type": "code",
      "source": [
        "# Combine Mean Profit of both division for Company= meanA + meanB\n",
        "meanA= 5\n",
        "meanB = 7\n",
        "\n",
        "mean_q5 = meanA + meanB \n",
        "mean_q5"
      ],
      "metadata": {
        "colab": {
          "base_uri": "https://localhost:8080/"
        },
        "id": "7CZu81pVSDsQ",
        "outputId": "ffd07339-1e69-4deb-ff4f-16e7ceaaed07"
      },
      "execution_count": 26,
      "outputs": [
        {
          "output_type": "execute_result",
          "data": {
            "text/plain": [
              "12"
            ]
          },
          "metadata": {},
          "execution_count": 26
        }
      ]
    },
    {
      "cell_type": "code",
      "source": [
        "print ('Mean profit of both division:', mean_q5, 'Million')\n",
        "print ('Mean profit of both division:', mean_q5*45/10, 'Million')   #1 million make a 0.1 crore, 10 millions make a crore \n",
        "                                                                   #1 USD = 45 rupees"
      ],
      "metadata": {
        "colab": {
          "base_uri": "https://localhost:8080/"
        },
        "id": "AR9PUlm4WeYl",
        "outputId": "dac33acd-08b0-4c71-de91-5a2c6443ca90"
      },
      "execution_count": 27,
      "outputs": [
        {
          "output_type": "stream",
          "name": "stdout",
          "text": [
            "Mean profit of both division: 12 Million\n",
            "Mean profit of both division: 54.0 Million\n"
          ]
        }
      ]
    },
    {
      "cell_type": "code",
      "source": [
        "# Combine standard Deviation = (Std1^2 + Std2^2)^1/2\n",
        "stdA = 3**2\n",
        "stdB = 4**2\n",
        "std_q5 = np.sqrt(stdA + stdB)\n",
        "std_q5"
      ],
      "metadata": {
        "colab": {
          "base_uri": "https://localhost:8080/"
        },
        "id": "UdeilPfIWdgt",
        "outputId": "4195ef1c-34bf-4607-c054-22496f7b8b12"
      },
      "execution_count": 31,
      "outputs": [
        {
          "output_type": "execute_result",
          "data": {
            "text/plain": [
              "5.0"
            ]
          },
          "metadata": {},
          "execution_count": 31
        }
      ]
    },
    {
      "cell_type": "code",
      "source": [
        "print('The Standard Deviation of both division:', std_q5, 'Million$')\n",
        "print('The Standard Deviation of both division:', (std_q5*45)/10, 'Crore Rupees')   #1 million make a 0.1 crore, 10 millions make a crore \n",
        "                                                                                    #1 USD = 45 rupees"
      ],
      "metadata": {
        "colab": {
          "base_uri": "https://localhost:8080/"
        },
        "id": "9QtLUW-lWX-k",
        "outputId": "242f0602-5c45-4e24-a0ec-c199e243ee8a"
      },
      "execution_count": 32,
      "outputs": [
        {
          "output_type": "stream",
          "name": "stdout",
          "text": [
            "The Standard Deviation of both division: 5.0 Million$\n",
            "The Standard Deviation of both division: 22.5 Crore Rupees\n"
          ]
        }
      ]
    },
    {
      "cell_type": "markdown",
      "source": [
        "\n",
        "A. Specify a Rupee range (centered on the mean) such that it contains 95% probability for the annual profit of the company."
      ],
      "metadata": {
        "id": "QHDYZI5OZBih"
      }
    },
    {
      "cell_type": "code",
      "source": [
        "r1,r2 = stats.norm.interval(0.95,mean_q5,std_q5)\n",
        "print ('r1=', r1, 'r2=',r2)"
      ],
      "metadata": {
        "colab": {
          "base_uri": "https://localhost:8080/"
        },
        "id": "Y_KTLT2a1NEi",
        "outputId": "178965eb-25af-42c4-ab87-13f27ee05896"
      },
      "execution_count": 36,
      "outputs": [
        {
          "output_type": "stream",
          "name": "stdout",
          "text": [
            "r1= 2.2001800772997306 r2= 21.79981992270027\n"
          ]
        }
      ]
    },
    {
      "cell_type": "code",
      "source": [
        "print('Rupee Ranges from',r1,'to',r2,'Million$ in Annual profit of the Company 95% of the time')\n",
        "print('Rupee Ranges from',r1*45/10,'to',r2*45/10,'Crores Rupees in Annual profit of the Company 95% of the time')"
      ],
      "metadata": {
        "colab": {
          "base_uri": "https://localhost:8080/"
        },
        "id": "6l-3OjVL1HuS",
        "outputId": "55face90-170a-46d2-bf8d-3fc99a3e9491"
      },
      "execution_count": 40,
      "outputs": [
        {
          "output_type": "stream",
          "name": "stdout",
          "text": [
            "Rupee Ranges from 2.2001800772997306 to 21.79981992270027 Million$ in Annual profit of the Company 95% of the time\n",
            "Rupee Ranges from 9.900810347848788 to 98.09918965215121 Crores Rupees in Annual profit of the Company 95% of the time\n"
          ]
        }
      ]
    },
    {
      "cell_type": "code",
      "source": [
        "print('Rupee Ranges from',np.round(r1,2),'to',np.round(r2,2),'Million$ in Annual profit of the Company 95% of the time')\n",
        "print('Rupee Ranges from',np.round(r1*45/10,2),'to',np.round(r2*45/10,2),'Crores Rupees in Annual profit of the Company 95% of the time')"
      ],
      "metadata": {
        "colab": {
          "base_uri": "https://localhost:8080/"
        },
        "id": "ywTVBU1za9Yb",
        "outputId": "4e7f5e97-5b13-418c-dccf-c3ddc74653df"
      },
      "execution_count": 42,
      "outputs": [
        {
          "output_type": "stream",
          "name": "stdout",
          "text": [
            "Rupee Ranges from 2.2 to 21.8 Million$ in Annual profit of the Company 95% of the time\n",
            "Rupee Ranges from 9.9 to 98.1 Crores Rupees in Annual profit of the Company 95% of the time\n"
          ]
        }
      ]
    },
    {
      "cell_type": "markdown",
      "source": [
        "B. Specify the 5th percentile of profit (in Rupees) for the company"
      ],
      "metadata": {
        "id": "CTySXrCKboP9"
      }
    },
    {
      "cell_type": "code",
      "source": [
        "#Percentile Value = μ + zσ\n",
        "# To find z value,\n",
        "\n",
        "z=stats.norm.ppf(0.05)   #fifth percentile so we find the z-score that is closest to the value 0.05 in log table for z score\n",
        "z"
      ],
      "metadata": {
        "colab": {
          "base_uri": "https://localhost:8080/"
        },
        "id": "rCJVtjooa1AC",
        "outputId": "7951ec9f-48f9-4e16-9a7c-49743f499a08"
      },
      "execution_count": 44,
      "outputs": [
        {
          "output_type": "execute_result",
          "data": {
            "text/plain": [
              "-1.6448536269514729"
            ]
          },
          "metadata": {},
          "execution_count": 44
        }
      ]
    },
    {
      "cell_type": "code",
      "source": [
        "fifth_percentile = (z*std_q5) + mean_q5\n",
        "fifth_percentile"
      ],
      "metadata": {
        "colab": {
          "base_uri": "https://localhost:8080/"
        },
        "id": "L0ttp3zBcqgX",
        "outputId": "e043c90e-9288-4791-aa3e-2d434e21e98e"
      },
      "execution_count": 45,
      "outputs": [
        {
          "output_type": "execute_result",
          "data": {
            "text/plain": [
              "3.7757318652426353"
            ]
          },
          "metadata": {},
          "execution_count": 45
        }
      ]
    },
    {
      "cell_type": "code",
      "source": [
        "print('The 5th percentile of Profit for the company is',np.round(fifth_percentile,2),'Million$')\n",
        "print('The 5th percentile of Profit for the company is',np.round((fifth_percentile*45)/10,),'Crore Rupees')"
      ],
      "metadata": {
        "colab": {
          "base_uri": "https://localhost:8080/"
        },
        "id": "FP2dosfZco9U",
        "outputId": "64c5bad5-5257-47d4-bd5c-ee429004609a"
      },
      "execution_count": 47,
      "outputs": [
        {
          "output_type": "stream",
          "name": "stdout",
          "text": [
            "The 5th percentile of Profit for the company is 3.78 Million$\n",
            "The 5th percentile of Profit for the company is 17.0 Crore Rupees\n"
          ]
        }
      ]
    },
    {
      "cell_type": "markdown",
      "source": [
        "C. Which of the two divisions has a larger probability of making a loss in a given year?"
      ],
      "metadata": {
        "id": "vQJEm8BDeI3z"
      }
    },
    {
      "cell_type": "code",
      "source": [
        "\n",
        "Division_1 = (stats.norm.cdf(0,5,3))*100\n",
        "Division_2 = (stats.norm.cdf(0,7,4))*100\n",
        "\n",
        "# The probability of Division #1 making a loss\n",
        "print('The Probability of Division #1 making a loss is',np.round(Division_1,2),'%')\n",
        "\n",
        "# The probability of Division #2 making a loss\n",
        "print('The Probability of Division #2 making a loss is',np.round(Division_2,2),'%')\n"
      ],
      "metadata": {
        "colab": {
          "base_uri": "https://localhost:8080/"
        },
        "id": "u67-Zik50vQ8",
        "outputId": "a354371b-8764-4a2a-bdb6-94231a764ce0"
      },
      "execution_count": 51,
      "outputs": [
        {
          "output_type": "stream",
          "name": "stdout",
          "text": [
            "The Probability of Division #1 making a loss is 4.78 %\n",
            "The Probability of Division #2 making a loss is 4.01 %\n"
          ]
        }
      ]
    },
    {
      "cell_type": "code",
      "source": [
        "if Division_1>Division_2:\n",
        "    print('The Division 1 has a larger Probability of making a loss')\n",
        "else:\n",
        "          print('The Division 2 has a larger Porbability of making a loss')"
      ],
      "metadata": {
        "colab": {
          "base_uri": "https://localhost:8080/"
        },
        "id": "59c2DBM6e5yG",
        "outputId": "ab438a47-a44d-4217-c752-ab3a406e6088"
      },
      "execution_count": 53,
      "outputs": [
        {
          "output_type": "stream",
          "name": "stdout",
          "text": [
            "The Division 1 has a larger Probability of making a loss\n"
          ]
        }
      ]
    },
    {
      "cell_type": "code",
      "source": [],
      "metadata": {
        "id": "WAiZrQNlfM4f"
      },
      "execution_count": null,
      "outputs": []
    }
  ]
}